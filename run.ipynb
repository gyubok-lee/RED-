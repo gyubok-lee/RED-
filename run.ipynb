{
 "cells": [
  {
   "cell_type": "code",
   "execution_count": 3,
   "metadata": {
    "ExecuteTime": {
     "end_time": "2020-12-26T17:39:24.170251Z",
     "start_time": "2020-12-26T17:39:22.479608Z"
    }
   },
   "outputs": [],
   "source": [
    "from red.red import RED\n",
    "from red.portfolio import Portfolio\n",
    "import Industry_Analysis as Industry\n",
    "import pandas as pd"
   ]
  },
  {
   "cell_type": "code",
   "execution_count": 8,
   "metadata": {
    "ExecuteTime": {
     "end_time": "2020-12-26T17:39:25.595107Z",
     "start_time": "2020-12-26T17:39:25.478039Z"
    },
    "scrolled": false
   },
   "outputs": [
    {
     "data": {
      "application/vnd.jupyter.widget-view+json": {
       "model_id": "2f1c09c219aa4731b07f57913035ce11",
       "version_major": 2,
       "version_minor": 0
      },
      "text/plain": [
       "BoundedIntText(value=100, continuous_update=True, description='투자 금액(만 원)', max=10000, min=1, style=Descriptio…"
      ]
     },
     "metadata": {},
     "output_type": "display_data"
    },
    {
     "data": {
      "application/vnd.jupyter.widget-view+json": {
       "model_id": "83519bdd5ae94967ad085ea0ace94e60",
       "version_major": 2,
       "version_minor": 0
      },
      "text/plain": [
       "Dropdown(description='투자 기간 ', options=('1주 ~ 1개월', '1개월 ~ 6개월', '6개월 ~ 1년', '1년 이상'), style=DescriptionStyle(…"
      ]
     },
     "metadata": {},
     "output_type": "display_data"
    },
    {
     "data": {
      "application/vnd.jupyter.widget-view+json": {
       "model_id": "2fc3f70a6fc74b16a22d27045a21f206",
       "version_major": 2,
       "version_minor": 0
      },
      "text/plain": [
       "BoundedIntText(value=24, description='나이 (만)', min=10, style=DescriptionStyle(description_width='initial'))"
      ]
     },
     "metadata": {},
     "output_type": "display_data"
    },
    {
     "data": {
      "application/vnd.jupyter.widget-view+json": {
       "model_id": "134351859fa24d9982e34036abc36087",
       "version_major": 2,
       "version_minor": 0
      },
      "text/plain": [
       "Dropdown(description='성별 ', options=('남', '여'), style=DescriptionStyle(description_width='initial'), value='남'…"
      ]
     },
     "metadata": {},
     "output_type": "display_data"
    },
    {
     "data": {
      "application/vnd.jupyter.widget-view+json": {
       "model_id": "a6ab14f7cbcf4b42a0906333cd619be1",
       "version_major": 2,
       "version_minor": 0
      },
      "text/plain": [
       "FloatText(value=0.0, continuous_update=True, description='월 정기 수입(만 원)', style=DescriptionStyle(description_wi…"
      ]
     },
     "metadata": {},
     "output_type": "display_data"
    },
    {
     "data": {
      "application/vnd.jupyter.widget-view+json": {
       "model_id": "60cfcc9fb7dc4dff91ff138243c53d2e",
       "version_major": 2,
       "version_minor": 0
      },
      "text/plain": [
       "Dropdown(description='관심산업분야', index=4, layout=Layout(width='max-content'), options=('건설', '금융', '기계', 'IT', '…"
      ]
     },
     "metadata": {},
     "output_type": "display_data"
    },
    {
     "data": {
      "application/vnd.jupyter.widget-view+json": {
       "model_id": "ffca3e9392a8478ea092bede582f43dd",
       "version_major": 2,
       "version_minor": 0
      },
      "text/plain": [
       "Dropdown(description='금융지식수준', index=2, layout=Layout(width='max-content'), options=('금융투자상품에 투자해 본 경험이 없음', '…"
      ]
     },
     "metadata": {},
     "output_type": "display_data"
    },
    {
     "data": {
      "application/vnd.jupyter.widget-view+json": {
       "model_id": "916935510de446d2ab6189664b5b484b",
       "version_major": 2,
       "version_minor": 0
      },
      "text/plain": [
       "Dropdown(description='위험추구성향', index=3, layout=Layout(width='max-content'), options=('예금 또는 적금 수준의 수익률을 기대 / 투…"
      ]
     },
     "metadata": {},
     "output_type": "display_data"
    },
    {
     "data": {
      "application/vnd.jupyter.widget-view+json": {
       "model_id": "f7920dadb3834f80a19fe344c4f475c0",
       "version_major": 2,
       "version_minor": 0
      },
      "text/plain": [
       "Button(description='데이터 업데이트', style=ButtonStyle())"
      ]
     },
     "metadata": {},
     "output_type": "display_data"
    },
    {
     "data": {
      "application/vnd.jupyter.widget-view+json": {
       "model_id": "7641091f06a14afbb67c504e4027bea7",
       "version_major": 2,
       "version_minor": 0
      },
      "text/plain": [
       "Button(description='투자 시작', style=ButtonStyle())"
      ]
     },
     "metadata": {},
     "output_type": "display_data"
    },
    {
     "data": {
      "application/vnd.jupyter.widget-view+json": {
       "model_id": "bd051fb6a0f14dfc80c067491857051a",
       "version_major": 2,
       "version_minor": 0
      },
      "text/plain": [
       "Button(description='뒤로 가기', style=ButtonStyle())"
      ]
     },
     "metadata": {},
     "output_type": "display_data"
    },
    {
     "name": "stdout",
     "output_type": "stream",
     "text": [
      "데이터 업데이트를 하신 후, 입력하신 정보를 확인하시고 투자 시작을 눌러주세요.\n"
     ]
    }
   ],
   "source": [
    "user = RED()\n",
    "user.run()"
   ]
  },
  {
   "cell_type": "code",
   "execution_count": 7,
   "metadata": {},
   "outputs": [
    {
     "data": {
      "text/plain": [
       "[['아시아나항공', 14950.0, 'rsi_sto', 3.67, 0.06853256244969655],\n",
       " ['JYP Ent.', 34700.0, 'mfi', 1.65, 0.018069950814487805],\n",
       " ['심텍', 24950.0, 'gold', 2.1, 0.020968653492909453],\n",
       " ['삼양식품', 93200.0, 'rsi_sto', 3.67, 0.023678419099411128],\n",
       " ['삼성화재', 171500.0, 'rsi_sto', 3.67, 0.03559690475817898],\n",
       " ['팬오션', 5080.0, 'gold', 2.1, 0.32962629385792835],\n",
       " ['풍산', 32900.0, 'long_candle', 2.16, 0.03641430143400903],\n",
       " ['풍산', 32900.0, 'AA', 3.1, 0.03641430143400903],\n",
       " ['NHN한국사이버결제', 52200.0, 'mfi', 1.65, 0.016293920585387128],\n",
       " ['LG전자', 171500.0, 'gold', 2.1, 0.015658376096750318],\n",
       " ['에이치엘비생명과학', 18800.0, 'bollinger', 3, 0.03456003113279013],\n",
       " ['에이스테크', 22600.0, 'rsi_sto', 3.67, 0.015307444542182878],\n",
       " ['네이처셀', 8310.0, 'rsi_sto', 3.67, 0.07118388510502638],\n",
       " ['에이치엘비', 74700.0, 'bollinger', 3, 0.03400580380698653],\n",
       " ['코오롱티슈진', 8010.0, 'mfi', 1.65, 0.17548512400529567],\n",
       " ['신라젠', 12100.0, 'mfi', 1.65, 0.27851096494261096]]"
      ]
     },
     "execution_count": 7,
     "metadata": {},
     "output_type": "execute_result"
    }
   ],
   "source": [
    "user.rec_stocks"
   ]
  },
  {
   "cell_type": "code",
   "execution_count": 5,
   "metadata": {
    "ExecuteTime": {
     "end_time": "2020-12-26T17:40:44.651244Z",
     "start_time": "2020-12-26T17:40:42.973426Z"
    },
    "scrolled": false
   },
   "outputs": [
    {
     "data": {
      "text/html": [
       "<div>\n",
       "<style scoped>\n",
       "    .dataframe tbody tr th:only-of-type {\n",
       "        vertical-align: middle;\n",
       "    }\n",
       "\n",
       "    .dataframe tbody tr th {\n",
       "        vertical-align: top;\n",
       "    }\n",
       "\n",
       "    .dataframe thead th {\n",
       "        text-align: right;\n",
       "    }\n",
       "</style>\n",
       "<table border=\"1\" class=\"dataframe\">\n",
       "  <thead>\n",
       "    <tr style=\"text-align: right;\">\n",
       "      <th></th>\n",
       "      <th>ETF</th>\n",
       "      <th>관심산업분야</th>\n",
       "      <th>금융지식수준</th>\n",
       "      <th>나이</th>\n",
       "      <th>날짜</th>\n",
       "      <th>성별</th>\n",
       "      <th>수익률 기준 날짜</th>\n",
       "      <th>월 정기 수입(만 원)</th>\n",
       "      <th>위험추구성향</th>\n",
       "      <th>주식</th>\n",
       "      <th>채권</th>\n",
       "      <th>투자 금액(만 원)</th>\n",
       "      <th>투자 기간</th>\n",
       "      <th>현재 수익률(%)</th>\n",
       "    </tr>\n",
       "  </thead>\n",
       "  <tbody>\n",
       "    <tr>\n",
       "      <th>0</th>\n",
       "      <td>[('KBSTAR 200IT', [3, [14985.0, 0.65, 1.21, 0....</td>\n",
       "      <td>IT</td>\n",
       "      <td>널리 알려진 금융투자 상품(주식, 채권 및 펀드 등)의 구조 및 위험을 깊이 있게 ...</td>\n",
       "      <td>24</td>\n",
       "      <td>2020-12-28</td>\n",
       "      <td>남</td>\n",
       "      <td>20210216.0</td>\n",
       "      <td>100.0</td>\n",
       "      <td>시장 평균 수익률을 넘어서는 높은 수준의 투자 수익 추구 / 투자자금의 대부분을 주...</td>\n",
       "      <td>[('유비쿼스홀딩스', [2, [27050.0, 'mfi', 1.65, 0.0227...</td>\n",
       "      <td>[]</td>\n",
       "      <td>100</td>\n",
       "      <td>1주 ~ 1개월</td>\n",
       "      <td>27.06</td>\n",
       "    </tr>\n",
       "    <tr>\n",
       "      <th>1</th>\n",
       "      <td>[('TIGER 200 철강소재', [16, [7260.0, 0.6, 1.21, 0...</td>\n",
       "      <td>철강금속</td>\n",
       "      <td>금융투자상품에 투자해 본 경험이 없음</td>\n",
       "      <td>24</td>\n",
       "      <td>2020-12-29</td>\n",
       "      <td>남</td>\n",
       "      <td>20210216.0</td>\n",
       "      <td>0.0</td>\n",
       "      <td>예금ㆍ적금보다 높은 수익을 기대할 수 있다면 위험을 감수하고 투자할 의향이 있음</td>\n",
       "      <td>[('바디텍메드', [2, [23850.0, 'r_sigma', 1.95, 0.05...</td>\n",
       "      <td>[]</td>\n",
       "      <td>200</td>\n",
       "      <td>1주 ~ 1개월</td>\n",
       "      <td>24.91</td>\n",
       "    </tr>\n",
       "    <tr>\n",
       "      <th>2</th>\n",
       "      <td>[('KBSTAR 200건설', [26, [10735.0, 0.7, 1.21, 0....</td>\n",
       "      <td>건설</td>\n",
       "      <td>금융투자상품에 투자해 본 경험이 없음</td>\n",
       "      <td>20</td>\n",
       "      <td>2021-01-15</td>\n",
       "      <td>남</td>\n",
       "      <td>20210216.0</td>\n",
       "      <td>100.0</td>\n",
       "      <td>투자원금의 보전보다 수익을 추구 / 투자자금의 대부분을 주식, 옵션 등의 위험자산에...</td>\n",
       "      <td>[('대림산업', [2, [83000.0, 'mfi', 1.65, 0.0417506...</td>\n",
       "      <td>[]</td>\n",
       "      <td>300</td>\n",
       "      <td>1주 ~ 1개월</td>\n",
       "      <td>-1.84</td>\n",
       "    </tr>\n",
       "    <tr>\n",
       "      <th>3</th>\n",
       "      <td>[('KODEX 2차전지산업', [1, [19570.0, 1.58, 1.21, 0....</td>\n",
       "      <td>화학</td>\n",
       "      <td>파생상품을 포함한 대부분의 금융투자상품의 구조 및 위험을 이해하고 있음</td>\n",
       "      <td>20</td>\n",
       "      <td>2021-01-22</td>\n",
       "      <td>남</td>\n",
       "      <td>20210216.0</td>\n",
       "      <td>100.0</td>\n",
       "      <td>시장 평균 수익률을 넘어서는 높은 수준의 투자 수익 추구 / 투자자금의 대부분을 주...</td>\n",
       "      <td>[('웹젠', [2, [42450.0, 'long_candle', 2.16, 0.0...</td>\n",
       "      <td>[]</td>\n",
       "      <td>60</td>\n",
       "      <td>1주 ~ 1개월</td>\n",
       "      <td>-1.51</td>\n",
       "    </tr>\n",
       "  </tbody>\n",
       "</table>\n",
       "</div>"
      ],
      "text/plain": [
       "                                                 ETF 관심산업분야  \\\n",
       "0  [('KBSTAR 200IT', [3, [14985.0, 0.65, 1.21, 0....     IT   \n",
       "1  [('TIGER 200 철강소재', [16, [7260.0, 0.6, 1.21, 0...   철강금속   \n",
       "2  [('KBSTAR 200건설', [26, [10735.0, 0.7, 1.21, 0....     건설   \n",
       "3  [('KODEX 2차전지산업', [1, [19570.0, 1.58, 1.21, 0....     화학   \n",
       "\n",
       "                                              금융지식수준  나이          날짜 성별  \\\n",
       "0  널리 알려진 금융투자 상품(주식, 채권 및 펀드 등)의 구조 및 위험을 깊이 있게 ...  24  2020-12-28  남   \n",
       "1                               금융투자상품에 투자해 본 경험이 없음  24  2020-12-29  남   \n",
       "2                               금융투자상품에 투자해 본 경험이 없음  20  2021-01-15  남   \n",
       "3            파생상품을 포함한 대부분의 금융투자상품의 구조 및 위험을 이해하고 있음  20  2021-01-22  남   \n",
       "\n",
       "    수익률 기준 날짜  월 정기 수입(만 원)  \\\n",
       "0  20210216.0         100.0   \n",
       "1  20210216.0           0.0   \n",
       "2  20210216.0         100.0   \n",
       "3  20210216.0         100.0   \n",
       "\n",
       "                                              위험추구성향  \\\n",
       "0  시장 평균 수익률을 넘어서는 높은 수준의 투자 수익 추구 / 투자자금의 대부분을 주...   \n",
       "1       예금ㆍ적금보다 높은 수익을 기대할 수 있다면 위험을 감수하고 투자할 의향이 있음   \n",
       "2  투자원금의 보전보다 수익을 추구 / 투자자금의 대부분을 주식, 옵션 등의 위험자산에...   \n",
       "3  시장 평균 수익률을 넘어서는 높은 수준의 투자 수익 추구 / 투자자금의 대부분을 주...   \n",
       "\n",
       "                                                  주식  채권  투자 금액(만 원)  \\\n",
       "0  [('유비쿼스홀딩스', [2, [27050.0, 'mfi', 1.65, 0.0227...  []         100   \n",
       "1  [('바디텍메드', [2, [23850.0, 'r_sigma', 1.95, 0.05...  []         200   \n",
       "2  [('대림산업', [2, [83000.0, 'mfi', 1.65, 0.0417506...  []         300   \n",
       "3  [('웹젠', [2, [42450.0, 'long_candle', 2.16, 0.0...  []          60   \n",
       "\n",
       "      투자 기간  현재 수익률(%)  \n",
       "0  1주 ~ 1개월      27.06  \n",
       "1  1주 ~ 1개월      24.91  \n",
       "2  1주 ~ 1개월      -1.84  \n",
       "3  1주 ~ 1개월      -1.51  "
      ]
     },
     "execution_count": 5,
     "metadata": {},
     "output_type": "execute_result"
    }
   ],
   "source": [
    "Portfolio().calculate_return()\n",
    "users_now = pd.read_csv(\"./data/users/userDB.csv\", index_col = 0, encoding= \"cp949\")\n",
    "users_now"
   ]
  },
  {
   "cell_type": "code",
   "execution_count": 6,
   "metadata": {
    "ExecuteTime": {
     "end_time": "2020-12-26T17:40:53.908995Z",
     "start_time": "2020-12-26T17:40:47.493409Z"
    }
   },
   "outputs": [
    {
     "name": "stdout",
     "output_type": "stream",
     "text": [
      "산업간 양(+)의 상관관계가 총 3개 발견되었습니다.\n",
      "\n",
      "산업간 음(-)의 상관관계가 총 3개 발견되었습니다.\n"
     ]
    }
   ],
   "source": [
    "Industry.industry_analysis()"
   ]
  },
  {
   "cell_type": "code",
   "execution_count": null,
   "metadata": {},
   "outputs": [],
   "source": []
  }
 ],
 "metadata": {
  "kernelspec": {
   "display_name": "Python 3",
   "language": "python",
   "name": "python3"
  },
  "language_info": {
   "codemirror_mode": {
    "name": "ipython",
    "version": 3
   },
   "file_extension": ".py",
   "mimetype": "text/x-python",
   "name": "python",
   "nbconvert_exporter": "python",
   "pygments_lexer": "ipython3",
   "version": "3.7.7"
  },
  "toc": {
   "base_numbering": 1,
   "nav_menu": {},
   "number_sections": true,
   "sideBar": true,
   "skip_h1_title": false,
   "title_cell": "Table of Contents",
   "title_sidebar": "Contents",
   "toc_cell": false,
   "toc_position": {},
   "toc_section_display": true,
   "toc_window_display": false
  },
  "varInspector": {
   "cols": {
    "lenName": 16,
    "lenType": 16,
    "lenVar": 40
   },
   "kernels_config": {
    "python": {
     "delete_cmd_postfix": "",
     "delete_cmd_prefix": "del ",
     "library": "var_list.py",
     "varRefreshCmd": "print(var_dic_list())"
    },
    "r": {
     "delete_cmd_postfix": ") ",
     "delete_cmd_prefix": "rm(",
     "library": "var_list.r",
     "varRefreshCmd": "cat(var_dic_list()) "
    }
   },
   "types_to_exclude": [
    "module",
    "function",
    "builtin_function_or_method",
    "instance",
    "_Feature"
   ],
   "window_display": false
  }
 },
 "nbformat": 4,
 "nbformat_minor": 2
}
